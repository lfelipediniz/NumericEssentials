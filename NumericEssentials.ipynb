{
 "cells": [
  {
   "cell_type": "markdown",
   "id": "cd4de920",
   "metadata": {},
   "source": [
    "# Trabalho Prático - Cálculo Numérico (SME0104)\n",
    "\n",
    "Este notebook contém a resolução completa do trabalho prático da disciplina de Cálculo Numérico (SME0104), ministrada pela professora Cynthia Lage Ferreira, conforme as orientações fornecidas.\n",
    "\n",
    "Todas as questões foram resolvidas em Python, com ênfase na implementação dos métodos numéricos abordados em aula, análise teórica e validação dos resultados obtidos.\n",
    "\n",
    "**Autores**:  \n",
    "Luiz Felipe Diniz Costa - 13782032  \n",
    "Pedro Lucas Figueiredo Bahiense - 14675458"
   ]
  },
  {
   "cell_type": "markdown",
   "id": "bcb94c06",
   "metadata": {},
   "source": [
    "> **Observação**  \n",
    "> O Trabalho incluirá um resumo teórico para cada questão, conforme sugerido pela professora."
   ]
  }
 ],
 "metadata": {
  "kernelspec": {
   "display_name": "venv",
   "language": "python",
   "name": "python3"
  },
  "language_info": {
   "name": "python",
   "version": "3.13.4"
  }
 },
 "nbformat": 4,
 "nbformat_minor": 5
}
